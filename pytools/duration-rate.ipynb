{
 "metadata": {
  "name": ""
 },
 "nbformat": 3,
 "nbformat_minor": 0,
 "worksheets": [
  {
   "cells": [
    {
     "cell_type": "code",
     "collapsed": false,
     "input": [
      "ipfix_file = \"../test/auckland-midday.ipfix.bz2\""
     ],
     "language": "python",
     "metadata": {},
     "outputs": []
    },
    {
     "cell_type": "code",
     "collapsed": false,
     "input": [
      "import ipfix\n",
      "import qof\n",
      "import bz2\n",
      "import pandas as pd\n",
      "import matplotlib.pyplot as plt\n",
      "import matplotlib.cm as cm\n",
      "import numpy as np\n",
      "\n",
      "ipfix.ie.use_iana_default() # loads IANA default IEs from module core definitions\n",
      "ipfix.ie.use_5103_default() # loads reverse IEs for RFC5103 biflows\n",
      "ipfix.ie.use_specfile(\"qof.iespec\") # loads enterprise-specific IEs for QoF\n",
      "\n",
      "ipfix.types.use_integer_ipv4() # accelerate dataframe processing of per-IP stuff"
     ],
     "language": "python",
     "metadata": {},
     "outputs": []
    },
    {
     "cell_type": "code",
     "collapsed": false,
     "input": [
      "def plot_rate_duration(df, filename=None):\n",
      "    plt.figure(figsize=(5,4))\n",
      "    plt.hexbin(x = df[\"durationSeconds\"],\n",
      "           y = ((df[\"octetDeltaCount\"] + df[\"reverseOctetDeltaCount\"])) * 8 / df[\"durationSeconds\"], \n",
      "           C = df[\"packetDeltaCount\"] + df[\"reversePacketDeltaCount\"],\n",
      "           reduce_C_function = np.sum,\n",
      "           yscale='log',\n",
      "           bins='log',\n",
      "           cmap = plt.cm.binary)\n",
      "    cb = plt.colorbar()\n",
      "    cb.set_label(\"log10(packets)\")\n",
      "    plt.xlabel(\"duration (s)\")\n",
      "    plt.ylabel(\"data rate (bps)\")\n",
      "    if filename:\n",
      "        plt.savefig(filename)"
     ],
     "language": "python",
     "metadata": {},
     "outputs": []
    },
    {
     "cell_type": "code",
     "collapsed": false,
     "input": [
      "with bz2.open(ipfix_file) as stream:\n",
      "    df = qof.dataframe_from_ipfix_stream(\n",
      "        stream, (\"flowStartMilliseconds\", \"flowEndMilliseconds\",\n",
      "             \"packetDeltaCount\", \"reversePacketDeltaCount\", \n",
      "             \"transportPacketDeltaCount\", \"reverseTransportPacketDeltaCount\",\n",
      "             \"octetDeltaCount\", \"reverseOctetDeltaCount\",\n",
      "             \"transportOctetDeltaCount\", \"reverseTransportOctetDeltaCount\",\n",
      "             \"tcpSequenceCount\", \"reverseTcpSequenceCount\",\n",
      "             \"tcpSequenceLossCount\", \"reverseTcpSequenceLossCount\"))\n",
      "qof.coerce_timestamps(df)\n",
      "qof.derive_duration(df)"
     ],
     "language": "python",
     "metadata": {},
     "outputs": []
    },
    {
     "cell_type": "code",
     "collapsed": false,
     "input": [
      "lossy = (df[\"tcpSequenceLossCount\"] > 0) | (df[\"reverseTcpSequenceLossCount\"] > 0)\n",
      "lossydf = df[lossy]\n",
      "notlossydf = df[~ lossy]"
     ],
     "language": "python",
     "metadata": {},
     "outputs": []
    },
    {
     "cell_type": "code",
     "collapsed": false,
     "input": [
      "plt.figure(figsize=(9,8))\n",
      "plt.hexbin(x = df[\"durationSeconds\"],\n",
      "           y = df[\"octetDeltaCount\"] + df[\"reverseOctetDeltaCount\"], \n",
      "           C = df[\"packetDeltaCount\"] + df[\"reversePacketDeltaCount\"],\n",
      "           reduce_C_function = np.sum,\n",
      "           yscale='log', bins='log'),\n",
      "cb = plt.colorbar()\n",
      "cb.set_label(\"log10(packets)\")"
     ],
     "language": "python",
     "metadata": {},
     "outputs": []
    },
    {
     "cell_type": "code",
     "collapsed": false,
     "input": [
      "plot_rate_duration(lossydf, \"auckland_lossy_flows.pdf\")"
     ],
     "language": "python",
     "metadata": {},
     "outputs": []
    },
    {
     "cell_type": "code",
     "collapsed": false,
     "input": [
      "plot_rate_duration(notlossydf, \"auckland_not_lossy_flows.pdf\")"
     ],
     "language": "python",
     "metadata": {},
     "outputs": []
    },
    {
     "cell_type": "code",
     "collapsed": false,
     "input": [],
     "language": "python",
     "metadata": {},
     "outputs": []
    }
   ],
   "metadata": {}
  }
 ]
}