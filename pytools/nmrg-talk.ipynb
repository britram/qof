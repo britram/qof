{
 "metadata": {
  "name": "nmrg-talk"
 },
 "nbformat": 3,
 "nbformat_minor": 0,
 "worksheets": [
  {
   "cells": [
    {
     "cell_type": "markdown",
     "metadata": {},
     "source": [
      "First, let's set up the environment: grab packages we need, and initialize the IPFIX information model."
     ]
    },
    {
     "cell_type": "code",
     "collapsed": false,
     "input": [
      "import pandas as pd\n",
      "import ipfix\n",
      "import qof\n",
      "from ipaddress import ip_address\n",
      "from ipaddress import ip_network\n",
      "\n",
      "ipfix.ie.use_iana_default()\n",
      "ipfix.ie.use_5103_default()\n",
      "ipfix.ie.use_specfile(\"qof.iespec\")"
     ],
     "language": "python",
     "metadata": {},
     "outputs": []
    },
    {
     "cell_type": "markdown",
     "metadata": {},
     "source": [
      "Next we can read a dataframe from an IPFIX file. Only records containing _all_ the requested Information Elements will be returned. We then derive flow duration and /16 networks from the data we have, and add these to the dataframe."
     ]
    },
    {
     "cell_type": "code",
     "collapsed": false,
     "input": [
      "df = qof.dataframe_from_ipfix(\"../test/qof-test.ipfix\", \n",
      "                              \"flowStartMilliseconds\", \n",
      "                              \"flowEndMilliseconds\",\n",
      "                              \"sourceTransportPort\",\n",
      "                              \"destinationTransportPort\",\n",
      "                              \"packetDeltaCount\", \n",
      "                              \"reversePacketDeltaCount\", \n",
      "                              \"octetDeltaCount\",\n",
      "                              \"reverseOctetDeltaCount\", \n",
      "                              \"initiatorOctets\",     # change this when we stop\n",
      "                              \"responderOctets\",     # misusing these borken IEs\n",
      "                              \"initiatorPackets\",    # applies here too\n",
      "                              \"responderPackets\",    # and here as well\n",
      "                              \"tcpSequenceCount\",\n",
      "                              \"reverseTcpSequenceCount\",\n",
      "                              \"tcpSequenceLossCount\",\n",
      "                              \"reverseTcpSequenceLossCount\",\n",
      "                              \"tcpRetransmitCount\",\n",
      "                              \"reverseTcpRetransmitCount\",\n",
      "                              \"meanTcpRttMilliseconds\", \n",
      "                              \"reverseMeanTcpRttMilliseconds\")\n",
      "qof.dataframe_derive_duration(df)\n",
      "df"
     ],
     "language": "python",
     "metadata": {},
     "outputs": []
    },
    {
     "cell_type": "markdown",
     "metadata": {},
     "source": [
      "One of the nice things about QoF's sequence bin facility is it allows us to find observation loss: packets clearly seen by the receiver but not observed at the observation point. So let's throw out all flows for which we don't have complete information:"
     ]
    },
    {
     "cell_type": "code",
     "collapsed": false,
     "input": [
      "lossy = ((df['tcpSequenceLossCount'] + df['reverseTcpSequenceLossCount']) > 0)\n",
      "df = df[lossy == False]\n",
      "lossy.value_counts()"
     ],
     "language": "python",
     "metadata": {},
     "outputs": []
    },
    {
     "cell_type": "markdown",
     "metadata": {},
     "source": [
      "Now we can easily do all the fairly routine things we're used to with flow data: here's a binned time series of flow count by start and end time:"
     ]
    },
    {
     "cell_type": "code",
     "collapsed": false,
     "input": [
      "ts = df['octetDeltaCount'] + df['reverseOctetDeltaCount']\n",
      "ts.index = df['flowStartMilliseconds']\n",
      "ts.resample(\"1min\", how=\"count\").plot()\n",
      "ts.index = df['flowEndMilliseconds']\n",
      "ts.resample(\"1min\", how=\"count\").plot()"
     ],
     "language": "python",
     "metadata": {},
     "outputs": []
    },
    {
     "cell_type": "markdown",
     "metadata": {},
     "source": [
      "And let's have a look at the top ten source and destination ports:"
     ]
    },
    {
     "cell_type": "code",
     "collapsed": false,
     "input": [
      "df[\"sourceTransportPort\"].value_counts()[:10]"
     ],
     "language": "python",
     "metadata": {},
     "outputs": []
    },
    {
     "cell_type": "code",
     "collapsed": false,
     "input": [
      "df[\"destinationTransportPort\"].value_counts()[:10]"
     ],
     "language": "python",
     "metadata": {},
     "outputs": []
    },
    {
     "cell_type": "markdown",
     "metadata": {},
     "source": [
      "We can look at the shape of the data in other ways: here's the flow-count by duration histogram:"
     ]
    },
    {
     "cell_type": "code",
     "collapsed": false,
     "input": [
      "df[\"durationSeconds\"].hist(bins=45)"
     ],
     "language": "python",
     "metadata": {},
     "outputs": []
    },
    {
     "cell_type": "markdown",
     "metadata": {},
     "source": [
      "the same for average bytes per packet"
     ]
    },
    {
     "cell_type": "code",
     "collapsed": false,
     "input": [
      "(df[\"octetDeltaCount\"] / df[\"packetDeltaCount\"]).hist(bins=45)"
     ],
     "language": "python",
     "metadata": {},
     "outputs": []
    },
    {
     "cell_type": "code",
     "collapsed": false,
     "input": [
      "(df[\"reverseOctetDeltaCount\"] / df[\"reversePacketDeltaCount\"]).hist(bins=45)"
     ],
     "language": "python",
     "metadata": {},
     "outputs": []
    },
    {
     "cell_type": "markdown",
     "metadata": {},
     "source": [
      "and the density function for round trip time:"
     ]
    },
    {
     "cell_type": "code",
     "collapsed": false,
     "input": [
      "df[\"meanTcpRttMilliseconds\"].plot(kind='kde')"
     ],
     "language": "python",
     "metadata": {},
     "outputs": []
    },
    {
     "cell_type": "markdown",
     "metadata": {},
     "source": [
      "Hm. That's clearly broken. One of the downsides of passive RTT estimation is it's difficult to tell whether an RTT estimate is delayed by application-side delay or not. QoF generates raw data, so there are some outliers. Let's throw out any value beyond 1.5* IQR from the first or third quartile:"
     ]
    },
    {
     "cell_type": "code",
     "collapsed": false,
     "input": [
      "def trim_iqr_outliers(series):\n",
      "    iqr = series.quantile(0.75) - series.quantile(0.25)\n",
      "    lower = series.quantile(0.25) - 1.5 * iqr\n",
      "    upper = series.quantile(0.75) + 1.5 * iqr\n",
      "    out = series[series > lower]\n",
      "    out = out[out < upper]\n",
      "    return out\n",
      "\n",
      "trim_iqr_outliers(df[\"meanTcpRttMilliseconds\"]).plot(kind='kde')"
     ],
     "language": "python",
     "metadata": {},
     "outputs": []
    },
    {
     "cell_type": "markdown",
     "metadata": {},
     "source": [
      "Here we clearly see three peaks in RTT density: near 0ms, near 150ms, and near 220ms. This is not surprising, as the data was collected in New Zealand: each mode represents another land mass separated by undersea cables. The minor plateau around 600ms may represent high-delay traffic to the Pacific Islands, or may represent application delay. More investigation is necessary."
     ]
    },
    {
     "cell_type": "markdown",
     "metadata": {},
     "source": [
      "Our study uses retransmission as a proxy for loss, mainly because it's cheap to do in QoF, and it provides a pretty good estimate in a world where there aren't many spurious retransmits (i.e., in a world with lots of NewReno and SACK). We can look at retransmissions per flow in terms of octets (by comparing progress through sequence number space -- octets delivered to the application -- against octets inside transport headers ber flow) or packets (by counting retransmitted segments using the retransmission detector). Let's normalize retransmission numbers into a separate dataframe:"
     ]
    },
    {
     "cell_type": "code",
     "collapsed": false,
     "input": [
      "rtx_df = pd.DataFrame((df['initiatorOctets'] - df['tcpSequenceCount']) / df['initiatorOctets'], columns=['fwd_oct'])\n",
      "rtx_df['rev_oct'] = (df['responderOctets'] - df['reverseTcpSequenceCount']) / df['responderOctets']\n",
      "rtx_df['fwd_pkt'] = df['tcpRetransmitCount'] / df['initiatorPackets']\n",
      "rtx_df['rev_pkt'] = df['reverseTcpRetransmitCount'] / df['responderPackets']"
     ],
     "language": "python",
     "metadata": {},
     "outputs": []
    },
    {
     "cell_type": "markdown",
     "metadata": {},
     "source": [
      "Let's look at how much retransmission we're seeing:"
     ]
    },
    {
     "cell_type": "code",
     "collapsed": false,
     "input": [
      "trim_iqr_outliers(rtx_df['fwd_oct'].dropna()).plot(kind=\"kde\")"
     ],
     "language": "python",
     "metadata": {},
     "outputs": []
    },
    {
     "cell_type": "code",
     "collapsed": false,
     "input": [
      "trim_iqr_outliers(rtx_df['fwd_pkt'].dropna()).plot(kind=\"kde\")"
     ],
     "language": "python",
     "metadata": {},
     "outputs": []
    },
    {
     "cell_type": "code",
     "collapsed": false,
     "input": [
      "trim_iqr_outliers(rtx_df['rev_oct'].dropna()).plot(kind=\"kde\")"
     ],
     "language": "python",
     "metadata": {},
     "outputs": []
    },
    {
     "cell_type": "code",
     "collapsed": false,
     "input": [
      "trim_iqr_outliers(rtx_df['rev_pkt'].dropna()).plot(kind=\"kde\")"
     ],
     "language": "python",
     "metadata": {},
     "outputs": []
    }
   ],
   "metadata": {}
  }
 ]
}