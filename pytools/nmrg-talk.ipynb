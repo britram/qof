{
 "metadata": {
  "name": "nmrg-talk"
 },
 "nbformat": 3,
 "nbformat_minor": 0,
 "worksheets": [
  {
   "cells": [
    {
     "cell_type": "markdown",
     "metadata": {},
     "source": [
      "First, let's set up the environment: grab packages we need, and initialize the IPFIX information model."
     ]
    },
    {
     "cell_type": "code",
     "collapsed": false,
     "input": [
      "import pandas as pd\n",
      "import ipfix\n",
      "import qof\n",
      "from ipaddress import ip_address\n",
      "from ipaddress import ip_network\n",
      "\n",
      "ipfix.ie.use_iana_default()\n",
      "ipfix.ie.use_5103_default()\n",
      "ipfix.ie.use_specfile(\"qof.iespec\")"
     ],
     "language": "python",
     "metadata": {},
     "outputs": []
    },
    {
     "cell_type": "markdown",
     "metadata": {},
     "source": [
      "Next we can read a dataframe from an IPFIX file. Only records containing _all_ the requested Information Elements will be returned. We then derive flow duration and /16 networks from the data we have, and add these to the dataframe."
     ]
    },
    {
     "cell_type": "code",
     "collapsed": false,
     "input": [
      "df = qof.dataframe_from_ipfix(\"../test/qof-test.ipfix\", \n",
      "                              \"flowStartMilliseconds\", \n",
      "                              \"flowEndMilliseconds\",\n",
      "                              \"sourceIPv4Address\",\n",
      "                              \"destinationIPv4Address\",\n",
      "                              \"sourceTransportPort\",\n",
      "                              \"destinationTransportPort\",\n",
      "                              \"packetDeltaCount\", \n",
      "                              \"reversePacketDeltaCount\", \n",
      "                              \"octetDeltaCount\", \n",
      "                              \"reverseOctetDeltaCount\", \n",
      "                              \"meanTcpRttMilliseconds\", \n",
      "                              \"reverseMeanTcpRttMilliseconds\")\n",
      "qof.dataframe_derive_duration(df)\n",
      "qof.dataframe_derive_nets(df)\n",
      "df"
     ],
     "language": "python",
     "metadata": {},
     "outputs": []
    },
    {
     "cell_type": "markdown",
     "metadata": {},
     "source": [
      "We can easily do all the fairly routine things we're used to with flow data: here's a binned time series of flow count by start and end time:"
     ]
    },
    {
     "cell_type": "code",
     "collapsed": false,
     "input": [
      "ts = df['octetDeltaCount'] + df['reverseOctetDeltaCount']\n",
      "ts.index = df['flowStartMilliseconds']\n",
      "ts.resample(\"1min\", how=\"count\").plot()\n",
      "ts.index = df['flowEndMilliseconds']\n",
      "ts.resample(\"1min\", how=\"count\").plot()"
     ],
     "language": "python",
     "metadata": {},
     "outputs": []
    },
    {
     "cell_type": "markdown",
     "metadata": {},
     "source": [
      "And let's have a look at the top ten source and destination ports:"
     ]
    },
    {
     "cell_type": "code",
     "collapsed": false,
     "input": [
      "df[\"sourceTransportPort\"].value_counts()[:10]"
     ],
     "language": "python",
     "metadata": {},
     "outputs": []
    },
    {
     "cell_type": "code",
     "collapsed": false,
     "input": [
      "df[\"destinationTransportPort\"].value_counts()[:10]"
     ],
     "language": "python",
     "metadata": {},
     "outputs": []
    },
    {
     "cell_type": "markdown",
     "metadata": {},
     "source": [
      "We can look at the shape of the data in other ways: here's the flow-count by duration histogram:"
     ]
    },
    {
     "cell_type": "code",
     "collapsed": false,
     "input": [
      "df[\"durationSeconds\"].hist(bins=45)"
     ],
     "language": "python",
     "metadata": {},
     "outputs": []
    },
    {
     "cell_type": "markdown",
     "metadata": {},
     "source": [
      "the same for average bytes per packet"
     ]
    },
    {
     "cell_type": "code",
     "collapsed": false,
     "input": [
      "(df[\"octetDeltaCount\"] / df[\"packetDeltaCount\"]).hist(bins=45)"
     ],
     "language": "python",
     "metadata": {},
     "outputs": []
    },
    {
     "cell_type": "code",
     "collapsed": false,
     "input": [
      "(df[\"reverseOctetDeltaCount\"] / df[\"reversePacketDeltaCount\"]).hist(bins=45)"
     ],
     "language": "python",
     "metadata": {},
     "outputs": []
    },
    {
     "cell_type": "markdown",
     "metadata": {},
     "source": [
      "and the same for round trip time"
     ]
    },
    {
     "cell_type": "code",
     "collapsed": false,
     "input": [
      "df[\"meanTcpRttMilliseconds\"].hist(bins=45)"
     ],
     "language": "python",
     "metadata": {},
     "outputs": []
    },
    {
     "cell_type": "markdown",
     "metadata": {},
     "source": [
      "Hm. That's clearly broken. One of the downsides of passive RTT estimation is it's difficult to tell whether an RTT estimate is delayed by application-side delay or not. QoF generates raw data, so there are some outliers. Let's throw out any value beyond 1.5* IQR from the first or third quartile:"
     ]
    },
    {
     "cell_type": "code",
     "collapsed": false,
     "input": [
      "def trim_iqr_outliers(series):\n",
      "    iqr = series.quantile(0.75) - series.quantile(0.25)\n",
      "    lower = series.quantile(0.25) - 1.5 * iqr\n",
      "    upper = series.quantile(0.75) + 1.5 * iqr\n",
      "    out = series[series > lower]\n",
      "    out = out[out < upper]\n",
      "    return out\n",
      "\n",
      "trim_iqr_outliers(df[\"meanTcpRttMilliseconds\"]).hist(bins=45)"
     ],
     "language": "python",
     "metadata": {},
     "outputs": []
    },
    {
     "cell_type": "code",
     "collapsed": false,
     "input": [
      "rtts.quantile(0.75) - rtts.quantile(0.25)"
     ],
     "language": "python",
     "metadata": {},
     "outputs": []
    },
    {
     "cell_type": "code",
     "collapsed": false,
     "input": [
      "del(rdf[\"durationSeconds\"])\n",
      "del(rdf[\"sourceIPv4Address\"])\n",
      "del(rdf[\"destinationIPv4Address\"])\n",
      "del(rdf[\"flowStartMilliseconds\"])\n",
      "del(rdf[\"flowEndMilliseconds\"])"
     ],
     "language": "python",
     "metadata": {},
     "outputs": []
    },
    {
     "cell_type": "markdown",
     "metadata": {},
     "source": [
      "We can explore the shape of this data set..."
     ]
    },
    {
     "cell_type": "code",
     "collapsed": false,
     "input": [],
     "language": "python",
     "metadata": {},
     "outputs": []
    },
    {
     "cell_type": "code",
     "collapsed": false,
     "input": [
      "rdf[\"meanTcpRttMilliseconds\"].hist(bins=60)"
     ],
     "language": "python",
     "metadata": {},
     "outputs": []
    },
    {
     "cell_type": "code",
     "collapsed": false,
     "input": [
      "rdf = rdf[rdf[\"meanTcpRttMilliseconds\"] < 10000]"
     ],
     "language": "python",
     "metadata": {},
     "outputs": []
    },
    {
     "cell_type": "code",
     "collapsed": false,
     "input": [
      "rtt_bynet = rdf[\"meanTcpRttMilliseconds\"].groupby(rdf[\"destinationIPv4Network\"])\n",
      "vol_bynet = (rdf[\"octetDeltaCount\"] + rdf[\"reverseOctetDeltaCount\"]).groupby(rdf[\"destinationIPv4Network\"])"
     ],
     "language": "python",
     "metadata": {},
     "outputs": []
    },
    {
     "cell_type": "code",
     "collapsed": false,
     "input": [
      "vol_bynet.sum().plot()"
     ],
     "language": "python",
     "metadata": {},
     "outputs": []
    },
    {
     "cell_type": "code",
     "collapsed": false,
     "input": [
      " "
     ],
     "language": "python",
     "metadata": {},
     "outputs": []
    }
   ],
   "metadata": {}
  }
 ]
}