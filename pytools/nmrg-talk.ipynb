{
 "metadata": {
  "name": "nmrg-talk"
 },
 "nbformat": 3,
 "nbformat_minor": 0,
 "worksheets": [
  {
   "cells": [
    {
     "cell_type": "markdown",
     "metadata": {},
     "source": [
      "First, let's set up the environment: grab packages we need, and initialize the IPFIX information model."
     ]
    },
    {
     "cell_type": "code",
     "collapsed": false,
     "input": [
      "import pandas as pd\n",
      "import matplotlib as plt\n",
      "\n",
      "import ipfix\n",
      "import qof\n",
      "from ecdf import ecdf\n",
      "\n",
      "ipfix.ie.use_iana_default()\n",
      "ipfix.ie.use_5103_default()\n",
      "ipfix.ie.use_specfile(\"qof.iespec\")"
     ],
     "language": "python",
     "metadata": {},
     "outputs": []
    },
    {
     "cell_type": "markdown",
     "metadata": {},
     "source": [
      "Next we can read a dataframe from an IPFIX file. Only records containing _all_ the requested Information Elements will be returned. We then derive additional columns from the data we have, and add these to the dataframe."
     ]
    },
    {
     "cell_type": "code",
     "collapsed": false,
     "input": [
      "df = qof.dataframe_from_ipfix(\"../test/tsdag-191800.ipfix\", \n",
      "                              \"flowId\",\n",
      "                              \"flowStartMilliseconds\", \n",
      "                              \"flowEndMilliseconds\",\n",
      "                              \"sourceTransportPort\",\n",
      "                              \"destinationTransportPort\",\n",
      "                              \"packetDeltaCount\", \n",
      "                              \"reversePacketDeltaCount\", \n",
      "                              \"octetDeltaCount\",\n",
      "                              \"reverseOctetDeltaCount\", \n",
      "                              \"initiatorOctets\",     # change this when we stop\n",
      "                              \"responderOctets\",     # misusing these borken IEs\n",
      "                              \"initiatorPackets\",    # applies here too\n",
      "                              \"responderPackets\",    # and here as well\n",
      "                              \"tcpSequenceCount\",\n",
      "                              \"reverseTcpSequenceCount\",\n",
      "                              \"tcpSequenceLossCount\",\n",
      "                              \"reverseTcpSequenceLossCount\",\n",
      "                              \"tcpRetransmitCount\",\n",
      "                              \"reverseTcpRetransmitCount\",\n",
      "                              \"meanTcpRttMilliseconds\", \n",
      "                              \"reverseMeanTcpRttMilliseconds\",\n",
      "                              \"observedTcpMss\",\n",
      "                              \"reverseObservedTcpMss\")\n",
      "qof.dataframe_derive_duration(df)\n",
      "df"
     ],
     "language": "python",
     "metadata": {},
     "outputs": []
    },
    {
     "cell_type": "markdown",
     "metadata": {},
     "source": [
      "One of the nice things about QoF's sequence bin facility is it allows us to find observation loss: packets clearly seen by the receiver but not observed at the observation point. This particular data set comes from a span port which is sometimes overloaded, so let's throw out all flows for which we don't have complete information:\n",
      "\n"
     ]
    },
    {
     "cell_type": "code",
     "collapsed": false,
     "input": [
      "lossy = ((df['tcpSequenceLossCount'] + df['reverseTcpSequenceLossCount']) > 0)\n",
      "df = df[lossy == False]\n",
      "lossy.value_counts()"
     ],
     "language": "python",
     "metadata": {},
     "outputs": []
    },
    {
     "cell_type": "markdown",
     "metadata": {},
     "source": [
      "Now we can easily do all the fairly routine things we're used to with flow data: here's a binned time series of flow count by start and end time:"
     ]
    },
    {
     "cell_type": "code",
     "collapsed": false,
     "input": [
      "ts = df['octetDeltaCount'] + df['reverseOctetDeltaCount']\n",
      "ts.index = df['flowStartMilliseconds']\n",
      "ts.resample(\"1min\", how=\"count\").plot()\n",
      "ts.index = df['flowEndMilliseconds']\n",
      "ts.resample(\"1min\", how=\"count\").plot()"
     ],
     "language": "python",
     "metadata": {},
     "outputs": []
    },
    {
     "cell_type": "markdown",
     "metadata": {},
     "source": [
      "And let's have a look at the top ten source and destination ports:"
     ]
    },
    {
     "cell_type": "code",
     "collapsed": false,
     "input": [
      "df[\"sourceTransportPort\"].value_counts()[:10]"
     ],
     "language": "python",
     "metadata": {},
     "outputs": []
    },
    {
     "cell_type": "code",
     "collapsed": false,
     "input": [
      "df[\"destinationTransportPort\"].value_counts()[:10]"
     ],
     "language": "python",
     "metadata": {},
     "outputs": []
    },
    {
     "cell_type": "markdown",
     "metadata": {},
     "source": [
      "We can look at the shape of the data in other ways: here's the flow-count by duration histogram:"
     ]
    },
    {
     "cell_type": "code",
     "collapsed": false,
     "input": [
      "df[\"durationSeconds\"].hist(bins=50)"
     ],
     "language": "python",
     "metadata": {},
     "outputs": []
    },
    {
     "cell_type": "markdown",
     "metadata": {},
     "source": [
      "the same for average bytes per packet"
     ]
    },
    {
     "cell_type": "code",
     "collapsed": false,
     "input": [
      "(df[\"octetDeltaCount\"] / df[\"packetDeltaCount\"]).hist(bins=50)"
     ],
     "language": "python",
     "metadata": {},
     "outputs": []
    },
    {
     "cell_type": "code",
     "collapsed": false,
     "input": [
      "(df[\"reverseOctetDeltaCount\"] / df[\"reversePacketDeltaCount\"]).hist(bins=50)"
     ],
     "language": "python",
     "metadata": {},
     "outputs": []
    },
    {
     "cell_type": "markdown",
     "metadata": {},
     "source": [
      "comparing bytes per packet with maximum segment size (a heuristic for finding bulk transfer flows):"
     ]
    },
    {
     "cell_type": "code",
     "collapsed": false,
     "input": [
      "(df[\"reverseObservedTcpMss\"] / (df[\"responderOctets\"] / df[\"responderPackets\"])).hist(bins=50)"
     ],
     "language": "python",
     "metadata": {},
     "outputs": []
    },
    {
     "cell_type": "markdown",
     "metadata": {},
     "source": [
      "and the density function for round trip time:"
     ]
    },
    {
     "cell_type": "code",
     "collapsed": false,
     "input": [
      "df[\"meanTcpRttMilliseconds\"].plot(kind='kde')"
     ],
     "language": "python",
     "metadata": {},
     "outputs": []
    },
    {
     "cell_type": "markdown",
     "metadata": {},
     "source": [
      "Hm. That's clearly broken. One of the downsides of passive RTT estimation is it's difficult to tell whether an RTT estimate is delayed by application-side delay or not. QoF generates raw data, so there are some outliers. Let's define a function for throwing out any value beyond 1.5* IQR from the first or third quartile:"
     ]
    },
    {
     "cell_type": "code",
     "collapsed": false,
     "input": [
      "def trim_iqr_outliers(series):\n",
      "    iqr = series.quantile(0.75) - series.quantile(0.25)\n",
      "    lower = series.quantile(0.25) - 1.5 * iqr\n",
      "    upper = series.quantile(0.75) + 1.5 * iqr\n",
      "    out = series[series >= lower]\n",
      "    out = out[out <= upper]\n",
      "    return out"
     ],
     "language": "python",
     "metadata": {},
     "outputs": []
    },
    {
     "cell_type": "code",
     "collapsed": false,
     "input": [
      "trim_iqr_outliers(df[\"meanTcpRttMilliseconds\"]).plot(kind='kde')"
     ],
     "language": "python",
     "metadata": {},
     "outputs": []
    },
    {
     "cell_type": "markdown",
     "metadata": {},
     "source": [
      "Here we clearly see three peaks in RTT density: near 0ms, near 150ms, and near 220ms. This is not surprising, as the data was collected in New Zealand: each mode represents another land mass separated by undersea cables. The minor plateau around 600ms may represent high-delay traffic to the Pacific Islands, or may represent application delay. More investigation is necessary."
     ]
    },
    {
     "cell_type": "markdown",
     "metadata": {},
     "source": [
      "Our study uses retransmission as a proxy for loss, mainly because it's cheap to do in QoF, and it provides a pretty good estimate in a world where there aren't many spurious retransmits (i.e., in a world with lots of NewReno and SACK). QoF counts retransmitted segments by determining whether a range of sequence numbers, scaled to a bitmap, has been seen before, and is therefore limited to counting retransmissions in flows with packets greater than . Let's normalize retransmission numbers into a separate dataframe:"
     ]
    },
    {
     "cell_type": "code",
     "collapsed": false,
     "input": [
      "rtx_df = pd.DataFrame({\"fwd_pkt\": df['tcpRetransmitCount'] / df['initiatorPackets'],\n",
      "                       \"rev_pkt\": df['reverseTcpRetransmitCount'] / df['responderPackets']})  \n"
     ],
     "language": "python",
     "metadata": {},
     "outputs": []
    },
    {
     "cell_type": "markdown",
     "metadata": {},
     "source": [
      "Let's look at how much retransmission we're seeing:"
     ]
    },
    {
     "cell_type": "code",
     "collapsed": false,
     "input": [
      "trim_iqr_outliers(rtx_df['fwd_pkt'].dropna()).plot(kind=\"kde\")"
     ],
     "language": "python",
     "metadata": {},
     "outputs": []
    },
    {
     "cell_type": "code",
     "collapsed": false,
     "input": [
      "trim_iqr_outliers(rtx_df['rev_pkt'].dropna()).plot(kind=\"kde\")"
     ],
     "language": "python",
     "metadata": {},
     "outputs": []
    },
    {
     "cell_type": "markdown",
     "metadata": {},
     "source": [
      "These are also clearly broken: the second peak represents flows where half the packets are retransmissions (i.e., where all packets are seen twice). Suspecting a bug in QoF (which is, after all, prerelase software), we dug into the data with Pandas to separate retransmission by IP address (not shown in this talk for data protection reasons), and found instead that these retransmissions are associated with middleboxes in a single subnet of the network. We filtered these out of the original packet data and reran QoF; let's see what effect this has on the retransmission distribution:"
     ]
    },
    {
     "cell_type": "code",
     "collapsed": false,
     "input": [
      "dfn = qof.dataframe_from_ipfix(\"../test/tsdag-nonat-191800.ipfix\", \n",
      "                              \"flowId\",\n",
      "                              \"flowStartMilliseconds\", \n",
      "                              \"flowEndMilliseconds\",\n",
      "                              \"sourceTransportPort\",\n",
      "                              \"destinationTransportPort\",\n",
      "                              \"packetDeltaCount\", \n",
      "                              \"reversePacketDeltaCount\", \n",
      "                              \"octetDeltaCount\",\n",
      "                              \"reverseOctetDeltaCount\", \n",
      "                              \"initiatorOctets\",     # change this when we stop\n",
      "                              \"responderOctets\",     # misusing these borken IEs\n",
      "                              \"initiatorPackets\",    # applies here too\n",
      "                              \"responderPackets\",    # and here as well\n",
      "                              \"tcpSequenceCount\",\n",
      "                              \"reverseTcpSequenceCount\",\n",
      "                              \"tcpSequenceLossCount\",\n",
      "                              \"reverseTcpSequenceLossCount\",\n",
      "                              \"tcpRetransmitCount\",\n",
      "                              \"reverseTcpRetransmitCount\",\n",
      "                              \"meanTcpRttMilliseconds\", \n",
      "                              \"reverseMeanTcpRttMilliseconds\",\n",
      "                              \"observedTcpMss\",\n",
      "                              \"reverseObservedTcpMss\")\n",
      "lossy = ((dfn['tcpSequenceLossCount'] + dfn['reverseTcpSequenceLossCount']) > 0)\n",
      "dfn = dfn[lossy == False]\n",
      "lossy.value_counts()"
     ],
     "language": "python",
     "metadata": {},
     "outputs": []
    },
    {
     "cell_type": "code",
     "collapsed": false,
     "input": [
      "rtx_dfn = pd.DataFrame({\"fwd_pkt\": dfn['tcpRetransmitCount'] / dfn['initiatorPackets'],\n",
      "                        \"rev_pkt\": dfn['reverseTcpRetransmitCount'] / dfn['responderPackets']})  \n"
     ],
     "language": "python",
     "metadata": {},
     "outputs": []
    },
    {
     "cell_type": "code",
     "collapsed": false,
     "input": [
      "trim_iqr_outliers(rtx_dfn['fwd_pkt'].dropna()).plot(kind=\"kde\")"
     ],
     "language": "python",
     "metadata": {},
     "outputs": []
    },
    {
     "cell_type": "code",
     "collapsed": false,
     "input": [
      "trim_iqr_outliers(rtx_dfn['rev_pkt'].dropna()).plot(kind=\"kde\")"
     ],
     "language": "python",
     "metadata": {},
     "outputs": []
    }
   ],
   "metadata": {}
  }
 ]
}