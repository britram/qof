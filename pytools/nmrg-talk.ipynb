{
 "metadata": {
  "name": "nmrg-talk"
 },
 "nbformat": 3,
 "nbformat_minor": 0,
 "worksheets": [
  {
   "cells": [
    {
     "cell_type": "code",
     "collapsed": false,
     "input": [
      "import pandas as pd\n",
      "import ipfix\n",
      "import qof\n",
      "from ipaddress import ip_address\n",
      "from ipaddress import ip_network\n",
      "\n",
      "ipfix.ie.use_iana_default()\n",
      "ipfix.ie.use_5103_default()\n",
      "ipfix.ie.use_specfile(\"qof.iespec\")"
     ],
     "language": "python",
     "metadata": {},
     "outputs": [],
     "prompt_number": 1
    },
    {
     "cell_type": "code",
     "collapsed": false,
     "input": [
      "df = qof.dataframe_from_ipfix(\"../test/qof-test.ipfix\", \n",
      "                              \"flowStartMilliseconds\", \n",
      "                              \"flowEndMilliseconds\",\n",
      "                              \"sourceIPv4Address\",\n",
      "                              \"destinationIPv4Address\",\n",
      "                              \"octetDeltaCount\", \n",
      "                              \"reverseOctetDeltaCount\", \n",
      "                              \"meanTcpRttMilliseconds\", \n",
      "                              \"reverseMeanTcpRttMilliseconds\")\n",
      "qof.dataframe_derive_duration(df)\n",
      "qof.dataframe_derive_nets(df)"
     ],
     "language": "python",
     "metadata": {},
     "outputs": [],
     "prompt_number": 2
    },
    {
     "cell_type": "code",
     "collapsed": false,
     "input": [
      "print(df.describe())"
     ],
     "language": "python",
     "metadata": {},
     "outputs": [
      {
       "output_type": "stream",
       "stream": "stdout",
       "text": [
        "       octetDeltaCount  reverseOctetDeltaCount  meanTcpRttMilliseconds  \\\n",
        "count     2.209680e+05            2.209680e+05           220968.000000   \n",
        "mean      2.661387e+04            2.140079e+05             1248.783136   \n",
        "std       9.953856e+05            5.752750e+06             4990.161180   \n",
        "min       2.050000e+02            1.690000e+02                0.000000   \n",
        "25%       1.680000e+03            3.980000e+03               73.000000   \n",
        "50%       3.116000e+03            1.001200e+04              200.000000   \n",
        "75%       6.278000e+03            3.816725e+04              342.000000   \n",
        "max       3.889569e+08            1.352688e+09            65532.000000   \n",
        "\n",
        "       reverseMeanTcpRttMilliseconds  durationSeconds  \n",
        "count                  220968.000000    220968.000000  \n",
        "mean                     1196.966918        63.190027  \n",
        "std                      4789.189364       100.254677  \n",
        "min                         0.000000         0.004001  \n",
        "25%                        74.000000         3.679000  \n",
        "50%                       176.000000        24.944000  \n",
        "75%                       352.000000        72.927250  \n",
        "max                     65520.000000       897.911999  \n"
       ]
      }
     ],
     "prompt_number": 9
    },
    {
     "cell_type": "markdown",
     "metadata": {},
     "source": [
      "Let's make a copy of our dataframe, since we're going to throw away a lot of columns."
     ]
    },
    {
     "cell_type": "code",
     "collapsed": false,
     "input": [
      "rdf = df.copy()"
     ],
     "language": "python",
     "metadata": {},
     "outputs": [],
     "prompt_number": 12
    },
    {
     "cell_type": "code",
     "collapsed": false,
     "input": [
      "del(rdf[\"durationSeconds\"])\n",
      "del(rdf[\"sourceIPv4Address\"])\n",
      "del(rdf[\"destinationIPv4Address\"])\n",
      "del(rdf[\"flowStartMilliseconds\"])\n",
      "del(rdf[\"flowEndMilliseconds\"])"
     ],
     "language": "python",
     "metadata": {},
     "outputs": [],
     "prompt_number": 13
    },
    {
     "cell_type": "markdown",
     "metadata": {},
     "source": [
      "We can explore the shape of this data set..."
     ]
    },
    {
     "cell_type": "code",
     "collapsed": false,
     "input": [],
     "language": "python",
     "metadata": {},
     "outputs": [
      {
       "ename": "AttributeError",
       "evalue": "'Series' object has no attribute 'boxplot'",
       "output_type": "pyerr",
       "traceback": [
        "\u001b[0;31m---------------------------------------------------------------------------\u001b[0m\n\u001b[0;31mAttributeError\u001b[0m                            Traceback (most recent call last)",
        "\u001b[0;32m<ipython-input-23-72943dbb9dd2>\u001b[0m in \u001b[0;36m<module>\u001b[0;34m()\u001b[0m\n\u001b[0;32m----> 1\u001b[0;31m \u001b[0mrdf\u001b[0m\u001b[0;34m[\u001b[0m\u001b[0;34m'reverseMeanTcpRttMilliseconds'\u001b[0m\u001b[0;34m]\u001b[0m\u001b[0;34m.\u001b[0m\u001b[0mboxplot\u001b[0m\u001b[0;34m(\u001b[0m\u001b[0;34m)\u001b[0m\u001b[0;34m\u001b[0m\u001b[0m\n\u001b[0m",
        "\u001b[0;31mAttributeError\u001b[0m: 'Series' object has no attribute 'boxplot'"
       ]
      }
     ],
     "prompt_number": 23
    },
    {
     "cell_type": "code",
     "collapsed": false,
     "input": [
      "rdf[\"meanTcpRttMilliseconds\"].hist(bins=60)"
     ],
     "language": "python",
     "metadata": {},
     "outputs": [
      {
       "output_type": "pyout",
       "prompt_number": 17,
       "text": [
        "<matplotlib.axes.AxesSubplot at 0x1407e9c50>"
       ]
      },
      {
       "output_type": "display_data",
       "png": "[encoded data removed]"
      }
     ],
     "prompt_number": 17
    },
    {
     "cell_type": "code",
     "collapsed": false,
     "input": [
      "rdf = rdf[rdf[\"meanTcpRttMilliseconds\"] < 10000]"
     ],
     "language": "python",
     "metadata": {},
     "outputs": [],
     "prompt_number": 16
    },
    {
     "cell_type": "code",
     "collapsed": false,
     "input": [
      "rtt_bynet = rdf[\"meanTcpRttMilliseconds\"].groupby(rdf[\"destinationIPv4Network\"])\n",
      "vol_bynet = (rdf[\"octetDeltaCount\"] + rdf[\"reverseOctetDeltaCount\"]).groupby(rdf[\"destinationIPv4Network\"])"
     ],
     "language": "python",
     "metadata": {},
     "outputs": [],
     "prompt_number": 24
    },
    {
     "cell_type": "code",
     "collapsed": false,
     "input": [
      "vol_bynet.sum().plot()"
     ],
     "language": "python",
     "metadata": {},
     "outputs": [
      {
       "output_type": "pyout",
       "prompt_number": 26,
       "text": [
        "<matplotlib.axes.AxesSubplot at 0x1432df5d0>"
       ]
      },
      {
       "output_type": "display_data",
       "png": "[encoded data removed]"
      }
     ],
     "prompt_number": 26
    },
    {
     "cell_type": "code",
     "collapsed": false,
     "input": [
      " "
     ],
     "language": "python",
     "metadata": {},
     "outputs": []
    }
   ],
   "metadata": {}
  }
 ]
}