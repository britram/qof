{
 "metadata": {
  "name": "nmrg-talk"
 },
 "nbformat": 3,
 "nbformat_minor": 0,
 "worksheets": [
  {
   "cells": [
    {
     "cell_type": "code",
     "collapsed": false,
     "input": [
      "import pandas as pd\n",
      "import ipfix\n",
      "import qof\n",
      "from ipaddress import ip_address\n",
      "from ipaddress import ip_network\n",
      "\n",
      "ipfix.ie.use_iana_default()\n",
      "ipfix.ie.use_5103_default()\n",
      "ipfix.ie.use_specfile(\"qof.iespec\")"
     ],
     "language": "python",
     "metadata": {},
     "outputs": [],
     "prompt_number": 1
    },
    {
     "cell_type": "code",
     "collapsed": false,
     "input": [
      "df = qof.dataframe_from_ipfix(\"../test/qof-test.ipfix\", \n",
      "                              \"flowStartMilliseconds\", \n",
      "                              \"flowEndMilliseconds\",\n",
      "                              \"sourceIPv4Address\",\n",
      "                              \"destinationIPv4Address\",\n",
      "                              \"octetDeltaCount\", \n",
      "                              \"reverseOctetDeltaCount\", \n",
      "                              \"meanTcpRttMilliseconds\", \n",
      "                              \"reverseMeanTcpRttMilliseconds\")\n",
      "qof.dataframe_derive_duration(df)\n",
      "qof.dataframe_derive_nets(df)"
     ],
     "language": "python",
     "metadata": {},
     "outputs": [],
     "prompt_number": 2
    },
    {
     "cell_type": "code",
     "collapsed": false,
     "input": [],
     "language": "python",
     "metadata": {},
     "outputs": []
    }
   ],
   "metadata": {}
  }
 ]
}