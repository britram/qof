{
 "metadata": {
  "name": ""
 },
 "nbformat": 3,
 "nbformat_minor": 0,
 "worksheets": [
  {
   "cells": [
    {
     "cell_type": "code",
     "collapsed": false,
     "input": [
      "ipfix_file = \"../test/mawi-0330-3hours-100ms.ipfix\""
     ],
     "language": "python",
     "metadata": {},
     "outputs": []
    },
    {
     "cell_type": "code",
     "collapsed": false,
     "input": [
      "import ipfix\n",
      "import qof\n",
      "import pandas as pd\n",
      "import numpy as np\n",
      "\n",
      "ipfix.ie.use_iana_default() # loads IANA default IEs from module core definitions\n",
      "ipfix.ie.use_5103_default() # loads reverse IEs for RFC5103 biflows\n",
      "ipfix.ie.use_specfile(\"qof.iespec\") # loads enterprise-specific IEs for QoF\n",
      "\n",
      "ipfix.types.use_integer_ipv4() # accelerate dataframe processing of per-IP stuff"
     ],
     "language": "python",
     "metadata": {},
     "outputs": []
    },
    {
     "cell_type": "code",
     "collapsed": false,
     "input": [
      "df = qof.dataframe_from_ipfix(ipfix_file, (\"flowStartMilliseconds\", \"flowEndMilliseconds\",\n",
      "                                           \"packetDeltaCount\", \"reversePacketDeltaCount\", \n",
      "                                           \"transportPacketDeltaCount\", \"reverseTransportPacketDeltaCount\",\n",
      "                                           \"octetDeltaCount\", \"reverseOctetDeltaCount\",\n",
      "                                           \"transportOctetDeltaCount\", \"reverseTransportOctetDeltaCount\",\n",
      "                                           \"tcpSequenceCount\", \"reverseTcpSequenceCount\",\n",
      "                                           \"tcpSequenceLossCount\", \"reverseTcpSequenceLossCount\"))"
     ],
     "language": "python",
     "metadata": {},
     "outputs": []
    },
    {
     "cell_type": "code",
     "collapsed": false,
     "input": [
      "print (\"Total flows:         \"+str(len(df)))"
     ],
     "language": "python",
     "metadata": {},
     "outputs": []
    },
    {
     "cell_type": "code",
     "collapsed": false,
     "input": [
      "df[\"lossy\"] = (df[\"tcpSequenceLossCount\"] > 0) | (df[\"reverseTcpSequenceLossCount\"] > 0)"
     ],
     "language": "python",
     "metadata": {},
     "outputs": []
    },
    {
     "cell_type": "code",
     "collapsed": false,
     "input": [
      "print (\"Lossy flows:         \"+str(len(df[df[\"lossy\"]])))"
     ],
     "language": "python",
     "metadata": {},
     "outputs": []
    },
    {
     "cell_type": "code",
     "collapsed": false,
     "input": [
      "(df[\"tcpSequenceLossCount\"] / (ldf[\"transportOctetDeltaCount\"] + \\\n",
      "                               ldf[\"tcpSequenceLossCount\"])).resample(\"5min\").dropna().plot()"
     ],
     "language": "python",
     "metadata": {},
     "outputs": []
    },
    {
     "cell_type": "code",
     "collapsed": false,
     "input": [
      "lossy_count = np.where(df[\"lossy\"], 1, 0)\n",
      "lossy_count.index = df[\"flowEndMilliseconds\"]\n",
      "total_count = pd.Series(1, index=lossy_count.index)\n",
      "\n",
      "lossy_count.resample(\"5min\", how=\"sum\")\n",
      "total_count.resample(\"5min\", how=\"sum\")\n",
      "(lossy_count / total_count).plot()"
     ],
     "language": "python",
     "metadata": {},
     "outputs": []
    },
    {
     "cell_type": "code",
     "collapsed": false,
     "input": [],
     "language": "python",
     "metadata": {},
     "outputs": []
    }
   ],
   "metadata": {}
  }
 ]
}