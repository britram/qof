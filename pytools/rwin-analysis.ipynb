{
 "metadata": {
  "name": ""
 },
 "nbformat": 3,
 "nbformat_minor": 0,
 "worksheets": [
  {
   "cells": [
    {
     "cell_type": "code",
     "collapsed": false,
     "input": [
      "ipfix_file = \"../../data/mawi-ditl12.ipfix\""
     ],
     "language": "python",
     "metadata": {},
     "outputs": []
    },
    {
     "cell_type": "code",
     "collapsed": false,
     "input": [
      "import ipfix\n",
      "import qof\n",
      "import pandas as pd\n",
      "\n",
      "ipfix.ie.use_iana_default() # loads IANA default IEs from module core definitions\n",
      "ipfix.ie.use_5103_default() # loads reverse IEs for RFC5103 biflows\n",
      "ipfix.ie.use_specfile(\"qof.iespec\") # loads enterprise-specific IEs for QoF\n",
      "\n",
      "ipfix.types.use_integer_ipv4() # accelerate dataframe processing of per-IP stuff"
     ],
     "language": "python",
     "metadata": {},
     "outputs": []
    },
    {
     "cell_type": "code",
     "collapsed": false,
     "input": [
      "df = qof.dataframe_from_ipfix(ipfix_file, (\"minTcpRwin\", \"reverseMinTcpRwin\",\n",
      "                                           \"maxTcpRwin\", \"reverseMaxTcpRwin\",\n",
      "                                           \"tcpReceiverStallCount\", \"reverseTcpReceiverStallCount\",\n",
      "                                           \"packetDeltaCount\", \"reversePacketDeltaCount\", \n",
      "                                           \"tcpSequenceLossCount\", \"reverseTcpSequenceLossCount\"))"
     ],
     "language": "python",
     "metadata": {},
     "outputs": []
    },
    {
     "cell_type": "code",
     "collapsed": false,
     "input": [
      "print (\"Total flows:         \"+str(len(df)))\n",
      "df = qof.drop_lossy(df)\n",
      "print (\"  of which lossless: \"+str(len(df)))"
     ],
     "language": "python",
     "metadata": {},
     "outputs": []
    },
    {
     "cell_type": "code",
     "collapsed": false,
     "input": [
      "df[\"minTcpRwin\"].hist(bins=200,range=(1,200000),weights=(df[\"packetDeltaCount\"]+df[\"reversePacketDeltaCount\"]))"
     ],
     "language": "python",
     "metadata": {},
     "outputs": []
    },
    {
     "cell_type": "code",
     "collapsed": false,
     "input": [
      "df[\"reverseMinTcpRwin\"].hist(bins=200,range=(1,200000),weights=(df[\"packetDeltaCount\"]+df[\"reversePacketDeltaCount\"]))"
     ],
     "language": "python",
     "metadata": {},
     "outputs": []
    },
    {
     "cell_type": "code",
     "collapsed": false,
     "input": [
      "df[\"maxTcpRwin\"].hist(bins=200,range=(1,200000),weights=(df[\"packetDeltaCount\"]+df[\"reversePacketDeltaCount\"]))"
     ],
     "language": "python",
     "metadata": {},
     "outputs": []
    },
    {
     "cell_type": "code",
     "collapsed": false,
     "input": [
      "df[\"reverseMaxTcpRwin\"].hist(bins=200,range=(1,200000),weights=(df[\"packetDeltaCount\"]+df[\"reversePacketDeltaCount\"]))"
     ],
     "language": "python",
     "metadata": {},
     "outputs": []
    },
    {
     "cell_type": "code",
     "collapsed": false,
     "input": [
      "df[\"tcpReceiverStallCount\"].describe()"
     ],
     "language": "python",
     "metadata": {},
     "outputs": []
    },
    {
     "cell_type": "code",
     "collapsed": false,
     "input": [
      "df[\"reverseTcpReceiverStallCount\"].describe()"
     ],
     "language": "python",
     "metadata": {},
     "outputs": []
    },
    {
     "cell_type": "code",
     "collapsed": false,
     "input": [],
     "language": "python",
     "metadata": {},
     "outputs": []
    }
   ],
   "metadata": {}
  }
 ]
}