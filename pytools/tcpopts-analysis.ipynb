{
 "metadata": {
  "name": ""
 },
 "nbformat": 3,
 "nbformat_minor": 0,
 "worksheets": [
  {
   "cells": [
    {
     "cell_type": "markdown",
     "metadata": {},
     "source": [
      "This notebook is a work in progress, but should give you an idea how to analyze TCP options in iPython notebooks."
     ]
    },
    {
     "cell_type": "markdown",
     "metadata": {},
     "source": [
      "To analyze a QoF-generated IPFIX file for presence of TCP options, set the filename in the following code block, then run it:"
     ]
    },
    {
     "cell_type": "code",
     "collapsed": false,
     "input": [
      "ipfix_file = \"../test/tsdag-nonat-191800.ipfix\""
     ],
     "language": "python",
     "metadata": {},
     "outputs": []
    },
    {
     "cell_type": "markdown",
     "metadata": {},
     "source": [
      "Run the following code to initialize required modules and define some useful functions:"
     ]
    },
    {
     "cell_type": "code",
     "collapsed": false,
     "input": [
      "import ipfix\n",
      "import qof\n",
      "import pandas as pd\n",
      "\n",
      "ipfix.ie.use_iana_default() # loads IANA default IEs from module core definitions\n",
      "ipfix.ie.use_5103_default() # loads reverse IEs for RFC5103 biflows\n",
      "ipfix.ie.use_specfile(\"qof.iespec\") # loads enterprise-specific IEs for QoF\n",
      "\n",
      "ipfix.types.use_integer_ipv4() # accelerate dataframe processing of per-IP stuff\n",
      "\n",
      "def characteristic_present(df, flag):\n",
      "    return ((df[\"qofTcpCharacteristics\"] & flag) == flag) | \\\n",
      "           ((df[\"reverseQofTcpCharacteristics\"] & flag) == flag)\n",
      "\n",
      "def ecn_negotiated(df):\n",
      "    ecn_syn = qof.TCP_SYN | qof.TCP_ECE | qof.TCP_CWR\n",
      "    ecn_ack = qof.TCP_SYN | qof.TCP_ACK | qof.TCP_ECE\n",
      "    ecn_mask = ecn_syn | ecn_ack\n",
      "    return ((df[\"initialTCPFlags\"] & ecn_mask) == ecn_syn) & \\\n",
      "           ((df[\"reverseInitialTCPFlags\"] & ecn_ack) == ecn_ack)\n",
      "    \n",
      "def print_proportion(feature, feature_s):\n",
      "    try:\n",
      "        print (\"%-10s observed on %8u flows (%8.5f%%)\" % \n",
      "               (feature,\n",
      "                feature_s.value_counts()[True],\n",
      "                feature_s.value_counts()[True] * 100 / len(feature_s)))\n",
      "        return feature_s.value_counts()[True]\n",
      "    except:\n",
      "        print (\"%-10s not observed\" % feature)\n",
      "\n",
      "def ip4_sources(df):\n",
      "    return pd.concat((df['sourceIPv4Address'], df['destinationIPv4Address']), ignore_index=1).unique()\n",
      "\n",
      "def ip4_sources_given(df, fcond_s, rcond_s):\n",
      "    csrc_fwd = df[fcond_s][\"sourceIPv4Address\"]\n",
      "    csrc_rev = df[rcond_s][\"destinationIPv4Address\"]\n",
      "    return pd.concat((csrc_fwd, csrc_rev), ignore_index=1).unique()\n",
      "\n",
      "def ip4_sources_characteristic(df, flag):\n",
      "    return ip4_sources_given(df, (df[\"qofTcpCharacteristics\"] & flag) == flag, \n",
      "                                 (df[\"reverseQofTcpCharacteristics\"] & flag) == flag)"
     ],
     "language": "python",
     "metadata": {},
     "outputs": []
    },
    {
     "cell_type": "markdown",
     "metadata": {},
     "source": [
      "and run this to load the file into the dataframe:"
     ]
    },
    {
     "cell_type": "code",
     "collapsed": false,
     "input": [
      "df = qof.dataframe_from_ipfix(ipfix_file, (\"initialTCPFlags\",\"reverseInitialTCPFlags\",\n",
      "                                           \"unionTCPFlags\",\"reverseUnionTCPFlags\",\n",
      "                                           \"qofTcpCharacteristics\", \"reverseQofTcpCharacteristics\",\n",
      "                                           \"tcpSequenceLossCount\", \"reverseTcpSequenceLossCount\",\n",
      "                                           \"packetDeltaCount\", \"reversePacketDeltaCount\",\n",
      "                                           \"sourceIPv4Address\", \"destinationIPv4Address\"))"
     ],
     "language": "python",
     "metadata": {},
     "outputs": []
    },
    {
     "cell_type": "markdown",
     "metadata": {},
     "source": [
      "Drop all incomplete flows (i.e., that don't have SYN set on the first packet) and flows with observation loss"
     ]
    },
    {
     "cell_type": "code",
     "collapsed": false,
     "input": [
      "print (\"Total flows:         \"+str(len(df)))\n",
      "df = qof.drop_lossy(df)\n",
      "print (\"  of which lossless: \"+str(len(df)))\n",
      "df = qof.drop_incomplete(df)\n",
      "print (\"  of which complete: \"+str(len(df)))"
     ],
     "language": "python",
     "metadata": {},
     "outputs": []
    },
    {
     "cell_type": "markdown",
     "metadata": {},
     "source": [
      "The following snippet reports on ECN usage per flow:"
     ]
    },
    {
     "cell_type": "code",
     "collapsed": false,
     "input": [
      "ecn_nego_s = ecn_negotiated(df)    \n",
      "ecn_ect0_s = characteristic_present(df, qof.QOF_ECT0)\n",
      "ecn_ect1_s = characteristic_present(df, qof.QOF_ECT1)\n",
      "ecn_ce_s = characteristic_present(df, qof.QOF_CE)\n",
      "\n",
      "print_proportion(\"ECN nego\", ecn_nego_s)\n",
      "print_proportion(\"ECT0\", ecn_ect0_s)\n",
      "print_proportion(\"ECT1\", ecn_ect1_s)\n",
      "print_proportion(\"nego->ECT0\", ecn_nego_s & ecn_ect0_s)\n",
      "print_proportion(\"nego->ECT1\", ecn_nego_s & ecn_ect1_s)\n",
      "print_proportion(\"CE\", ecn_ce_s)\n",
      "print()\n",
      "print_proportion(\"ECT0+ECT1\", ecn_ect0_s & ecn_ect1_s)\n",
      "print_proportion(\"ECT0+CE\", ecn_ce_s & ecn_ect0_s)\n",
      "print_proportion(\"ECT1+CE\", ecn_ce_s & ecn_ect1_s)\n",
      "print_proportion(\"all ECx\", ecn_ce_s & ecn_ect0_s & ecn_ect1_s)\n",
      "print()"
     ],
     "language": "python",
     "metadata": {},
     "outputs": []
    },
    {
     "cell_type": "markdown",
     "metadata": {},
     "source": [
      "The following snippet reports on other TCP options per flow:"
     ]
    },
    {
     "cell_type": "code",
     "collapsed": false,
     "input": [
      "tcp_ws_s = characteristic_present(df, qof.QOF_WS)\n",
      "tcp_ts_s = characteristic_present(df, qof.QOF_TS)\n",
      "tcp_sack_s = characteristic_present(df, qof.QOF_SACK)\n",
      "\n",
      "print_proportion(\"WS\", tcp_ws_s)\n",
      "print_proportion(\"TS\", tcp_ts_s)\n",
      "print_proportion(\"SACK\", tcp_sack_s)\n",
      "print()"
     ],
     "language": "python",
     "metadata": {},
     "outputs": []
    },
    {
     "cell_type": "markdown",
     "metadata": {},
     "source": [
      "The following snippet reports on other TCP options per source:"
     ]
    },
    {
     "cell_type": "code",
     "collapsed": false,
     "input": [
      "all_sources = ip4_sources(df)\n",
      "ws_sources = ip4_sources_characteristic(df, qof.QOF_WS)\n",
      "print(\"WS   observed from %8u sources (%8.5f%%)\" % (len(ws_sources), len(ws_sources) * 100 / len(all_sources)))\n",
      "ts_sources = ip4_sources_characteristic(df, qof.QOF_TS)\n",
      "print(\"TS   observed from %8u sources (%8.5f%%)\" % (len(ts_sources), len(ts_sources) * 100 / len(all_sources)))\n",
      "sack_sources = ip4_sources_characteristic(df, qof.QOF_SACK)\n",
      "print(\"SACK observed from %8u sources (%8.5f%%)\" % (len(sack_sources), len(sack_sources) * 100 / len(all_sources)))\n"
     ],
     "language": "python",
     "metadata": {},
     "outputs": []
    },
    {
     "cell_type": "code",
     "collapsed": false,
     "input": [
      "qof.derive_flag_strings(df)"
     ],
     "language": "python",
     "metadata": {},
     "outputs": []
    },
    {
     "cell_type": "code",
     "collapsed": false,
     "input": [
      "qof.derive_tcpchar_strings(df)"
     ],
     "language": "python",
     "metadata": {},
     "outputs": []
    },
    {
     "cell_type": "code",
     "collapsed": false,
     "input": [
      "negotiated[\"reversePacketDeltaCount\"].hist(bins=100)"
     ],
     "language": "python",
     "metadata": {},
     "outputs": []
    },
    {
     "cell_type": "code",
     "collapsed": false,
     "input": [],
     "language": "python",
     "metadata": {},
     "outputs": []
    }
   ],
   "metadata": {}
  }
 ]
}