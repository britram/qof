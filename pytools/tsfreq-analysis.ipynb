{
 "metadata": {
  "name": ""
 },
 "nbformat": 3,
 "nbformat_minor": 0,
 "worksheets": [
  {
   "cells": [
    {
     "cell_type": "markdown",
     "metadata": {},
     "source": [
      "To analyze a QoF-generated IPFIX file for timestamp frequencies, set the filename in the following code block, then run it:\n",
      "\n",
      "Note that the timestamp frequency distributions seen in test data to date look somewhat suspect; I have low confidence in the correctness of this code."
     ]
    },
    {
     "cell_type": "code",
     "collapsed": false,
     "input": [
      "ipfix_file = \"../test/mawi.ipfix\""
     ],
     "language": "python",
     "metadata": {},
     "outputs": [],
     "prompt_number": 6
    },
    {
     "cell_type": "markdown",
     "metadata": {},
     "source": [
      "Run the following code to initialize required modules and define some useful functions:"
     ]
    },
    {
     "cell_type": "code",
     "collapsed": false,
     "input": [
      "import ipfix\n",
      "import qof\n",
      "import pandas as pd\n",
      "\n",
      "ipfix.ie.use_iana_default() # loads IANA default IEs from module core definitions\n",
      "ipfix.ie.use_5103_default() # loads reverse IEs for RFC5103 biflows\n",
      "ipfix.ie.use_specfile(\"qof.iespec\") # loads enterprise-specific IEs for QoF\n",
      "\n",
      "ipfix.types.use_integer_ipv4() # accelerate dataframe processing of per-IP stuff"
     ],
     "language": "python",
     "metadata": {},
     "outputs": [],
     "prompt_number": 2
    },
    {
     "cell_type": "markdown",
     "metadata": {},
     "source": [
      "and run this to load the file into the dataframe:"
     ]
    },
    {
     "cell_type": "code",
     "collapsed": false,
     "input": [
      "df = qof.dataframe_from_ipfix(ipfix_file, (\"tcpTimestampFrequency\", \"reverseTcpTimestampFrequency\",\n",
      "                                           \"packetDeltaCount\", \"reversePacketDeltaCount\",\n",
      "                                           \"tcpSequenceLossCount\", \"reverseTcpSequenceLossCount\"))\n",
      "df = qof.drop_lossy(df)"
     ],
     "language": "python",
     "metadata": {},
     "outputs": [],
     "prompt_number": 7
    },
    {
     "cell_type": "markdown",
     "metadata": {},
     "source": [
      "Scratch space below:"
     ]
    },
    {
     "cell_type": "code",
     "collapsed": false,
     "input": [
      "df[\"tcpTimestampFrequency\"].hist(bins=100,range=(850,1050),weights=df[\"packetDeltaCount\"])"
     ],
     "language": "python",
     "metadata": {},
     "outputs": [
      {
       "metadata": {},
       "output_type": "pyout",
       "prompt_number": 11,
       "text": [
        "<matplotlib.axes.AxesSubplot at 0x10a012290>"
       ]
      },
      {
       "metadata": {},
       "output_type": "display_data",
       "png": "[encoded data removed]",
       "text": [
        "<matplotlib.figure.Figure at 0x108fed410>"
       ]
      }
     ],
     "prompt_number": 11
    },
    {
     "cell_type": "code",
     "collapsed": false,
     "input": [
      "df[\"reverseTcpTimestampFrequency\"].hist(bins=120,range=(1,1200),weights=df[\"reversePacketDeltaCount\"])"
     ],
     "language": "python",
     "metadata": {},
     "outputs": [
      {
       "metadata": {},
       "output_type": "pyout",
       "prompt_number": 9,
       "text": [
        "<matplotlib.axes.AxesSubplot at 0x108fc2ad0>"
       ]
      },
      {
       "metadata": {},
       "output_type": "display_data",
       "png": "[encoded data removed]",
       "text": [
        "<matplotlib.figure.Figure at 0x109c3bb50>"
       ]
      }
     ],
     "prompt_number": 9
    },
    {
     "cell_type": "code",
     "collapsed": false,
     "input": [],
     "language": "python",
     "metadata": {},
     "outputs": [],
     "prompt_number": 9
    },
    {
     "cell_type": "code",
     "collapsed": false,
     "input": [],
     "language": "python",
     "metadata": {},
     "outputs": []
    }
   ],
   "metadata": {}
  }
 ]
}