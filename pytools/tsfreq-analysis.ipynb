{
 "metadata": {
  "name": ""
 },
 "nbformat": 3,
 "nbformat_minor": 0,
 "worksheets": [
  {
   "cells": [
    {
     "cell_type": "markdown",
     "metadata": {},
     "source": [
      "To analyze a QoF-generated IPFIX file for timestamp frequencies, set the filename in the following code block, then run it:"
     ]
    },
    {
     "cell_type": "code",
     "collapsed": false,
     "input": [
      "ipfix_file = \"../test/mawi-0330-3hours.ipfix\""
     ],
     "language": "python",
     "metadata": {},
     "outputs": []
    },
    {
     "cell_type": "markdown",
     "metadata": {},
     "source": [
      "Run the following code to initialize required modules and define some useful functions:"
     ]
    },
    {
     "cell_type": "code",
     "collapsed": false,
     "input": [
      "import ipfix\n",
      "import qof\n",
      "import pandas as pd\n",
      "import numpy as np\n",
      "\n",
      "ipfix.ie.use_iana_default() # loads IANA default IEs from module core definitions\n",
      "ipfix.ie.use_5103_default() # loads reverse IEs for RFC5103 biflows\n",
      "ipfix.ie.use_specfile(\"qof.iespec\") # loads enterprise-specific IEs for QoF\n",
      "\n",
      "ipfix.types.use_integer_ipv4() # accelerate dataframe processing of per-IP stuff"
     ],
     "language": "python",
     "metadata": {},
     "outputs": []
    },
    {
     "cell_type": "markdown",
     "metadata": {},
     "source": [
      "and run this to load the file into the dataframe (for biflow data):"
     ]
    },
    {
     "cell_type": "code",
     "collapsed": true,
     "input": [
      "df = qof.dataframe_from_ipfix(ipfix_file, (\"tcpTimestampFrequency\", \"reverseTcpTimestampFrequency\",\n",
      "                                           \"meanTcpChirpMilliseconds\", \"reverseMeanTcpChirpMilliseconds\",\n",
      "                                           \"packetDeltaCount\", \"reversePacketDeltaCount\",\n",
      "                                           \"tcpSequenceLossCount\", \"reverseTcpSequenceLossCount\"))"
     ],
     "language": "python",
     "metadata": {},
     "outputs": []
    },
    {
     "cell_type": "markdown",
     "metadata": {},
     "source": [
      "or this one (for uniflow data):"
     ]
    },
    {
     "cell_type": "code",
     "collapsed": false,
     "input": [
      "df = qof.dataframe_from_ipfix(ipfix_file, (\"tcpTimestampFrequency\",\n",
      "                                           \"meanTcpChirpMilliseconds\",\n",
      "                                           \"packetDeltaCount\",\n",
      "                                           \"tcpSequenceLossCount\",))"
     ],
     "language": "python",
     "metadata": {},
     "outputs": []
    },
    {
     "cell_type": "markdown",
     "metadata": {},
     "source": [
      "Classify timestamp distribution by probable frequency:"
     ]
    },
    {
     "cell_type": "code",
     "collapsed": false,
     "input": [
      "df[\"ts10\"] = (df[\"tcpTimestampFrequency\"] >= 8) & (df[\"tcpTimestampFrequency\"] <= 12)\n",
      "df[\"ts100\"] = (df[\"tcpTimestampFrequency\"] >= 80) & (df[\"tcpTimestampFrequency\"] <= 120)\n",
      "df[\"ts250\"] = (df[\"tcpTimestampFrequency\"] >= 200) & (df[\"tcpTimestampFrequency\"] <= 300)\n",
      "df[\"ts1000\"] = (df[\"tcpTimestampFrequency\"] >= 800) & (df[\"tcpTimestampFrequency\"] <= 1200)\n",
      "df[\"tsvalid\"] = df[\"ts10\"] | df[\"ts100\"] | df[\"ts250\"] | df[\"ts1000\"]\n",
      "df[\"tserror\"] = np.where(df[\"ts10\"] , abs(10 - df[\"tcpTimestampFrequency\"]) / 10, \n",
      "                 np.where(df[\"ts100\"], abs(100 - df[\"tcpTimestampFrequency\"]) / 100, \n",
      "                 np.where(df[\"ts250\"], abs(250 - df[\"tcpTimestampFrequency\"]) / 250,\n",
      "                 np.where(df[\"ts1000\"], abs(1000 - df[\"tcpTimestampFrequency\"]) / 1000, 0))))"
     ],
     "language": "python",
     "metadata": {},
     "outputs": []
    },
    {
     "cell_type": "markdown",
     "metadata": {},
     "source": [
      "(and the same thing for the reverse):"
     ]
    },
    {
     "cell_type": "code",
     "collapsed": false,
     "input": [
      "df[\"rts10\"] = (df[\"tcpTimestampFrequency\"] >= 8) & (df[\"reverseTcpTimestampFrequency\"] <= 12)\n",
      "df[\"rts100\"] = (df[\"tcpTimestampFrequency\"] >= 80) & (df[\"reverseTcpTimestampFrequency\"] <= 120)\n",
      "df[\"rts250\"] = (df[\"tcpTimestampFrequency\"] >= 200) & (df[\"reverseTcpTimestampFrequency\"] <= 300)\n",
      "df[\"rts1000\"] = (df[\"tcpTimestampFrequency\"] >= 800) & (df[\"reverseTcpTimestampFrequency\"] <= 1200)\n",
      "df[\"rtsvalid\"] = df[\"rts10\"] | df[\"rts100\"] | df[\"rts250\"] | df[\"rts1000\"]\n",
      "df[\"rtserror\"] = np.where(df[\"rts10\"] , abs(10 - df[\"reverseTcpTimestampFrequency\"]) / 10, \n",
      "                 np.where(df[\"rts100\"], abs(100 - df[\"reverseTcpTimestampFrequency\"]) / 100, \n",
      "                 np.where(df[\"rts250\"], abs(250 - df[\"reverseTcpTimestampFrequency\"]) / 250,\n",
      "                 np.where(df[\"rts1000\"], abs(1000 - df[\"reverseTcpTimestampFrequency\"]) / 1000, 0))))"
     ],
     "language": "python",
     "metadata": {},
     "outputs": []
    },
    {
     "cell_type": "markdown",
     "metadata": {},
     "source": [
      "A graphical display of the timestamp frequency spectrum:"
     ]
    },
    {
     "cell_type": "code",
     "collapsed": false,
     "input": [
      "df[\"tcpTimestampFrequency\"].hist(bins=150,range=(900,1050),weights=df[\"packetDeltaCount\"])"
     ],
     "language": "python",
     "metadata": {},
     "outputs": []
    },
    {
     "cell_type": "markdown",
     "metadata": {},
     "source": [
      "and the error spectrum:"
     ]
    },
    {
     "cell_type": "code",
     "collapsed": false,
     "input": [
      "df[df[\"tsvalid\"]][\"tserror\"].hist(bins=100,weights=df[df[\"tsvalid\"]][\"packetDeltaCount\"])"
     ],
     "language": "python",
     "metadata": {},
     "outputs": []
    },
    {
     "cell_type": "code",
     "collapsed": false,
     "input": [
      "df[df[\"tsvalid\"]][\"tserror\"].describe()"
     ],
     "language": "python",
     "metadata": {},
     "outputs": []
    },
    {
     "cell_type": "markdown",
     "metadata": {},
     "source": [
      "with proportion of how many flows are valid:"
     ]
    },
    {
     "cell_type": "code",
     "collapsed": false,
     "input": [
      "df[\"tsvalid\"].value_counts()[True]/len(df)"
     ],
     "language": "python",
     "metadata": {},
     "outputs": []
    },
    {
     "cell_type": "code",
     "collapsed": false,
     "input": [],
     "language": "python",
     "metadata": {},
     "outputs": []
    }
   ],
   "metadata": {}
  }
 ]
}